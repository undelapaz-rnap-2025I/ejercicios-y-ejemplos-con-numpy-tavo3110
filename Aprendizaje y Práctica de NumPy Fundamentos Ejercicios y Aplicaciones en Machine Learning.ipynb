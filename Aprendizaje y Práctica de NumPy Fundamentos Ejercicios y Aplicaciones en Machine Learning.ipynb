{
 "cells": [
  {
   "cell_type": "markdown",
   "id": "94773757",
   "metadata": {},
   "source": [
    "# Aprendizaje y Práctica de NumPy  \n",
    "## Fundamentos, Ejercicios y Aplicaciones en Machine Learning  \n",
    "\n",
    "en este cuaderno se introduciran y consolidara el conocimiento de NumPy, una biblioteca fundamental de Python para computación numérica, junto con conceptos esenciales de programación como funciones, clases y algoritmos de optimización. A través de ejemplos claros y ejercicios prácticos.\n",
    "\n",
    "**Objetivos**:  \n",
    "- Dominar operaciones básicas y avanzadas de NumPy.  \n",
    "- Aplicar NumPy en problemas de álgebra lineal y optimización.  \n",
    "- Implementar gradiente descendente para regresión lineal.  \n",
    "\n",
    "**El contenido combina teoría y práctica, incluyendo:**\n",
    "- Ejemplos paso a paso con código ejecutable.\n",
    "- Ejercicios para reforzar el manejo de arrays y lógica de programación.\n",
    "- Una sección dedicada a redes neuronales y aprendizaje profundo (hinting la relevancia de NumPy en este campo)."
   ]
  },
  {
   "cell_type": "markdown",
   "id": "38fa99cb",
   "metadata": {},
   "source": [
    "# EJEMPLOS NumPy"
   ]
  },
  {
   "cell_type": "markdown",
   "id": "85d80fe2",
   "metadata": {},
   "source": [
    "# EJEMPLO 1:Basic Indexing\n",
    "Este código crea un arreglo 1D y accede al elemento en la posición 2 (indexación comienza en 0).\n",
    "Resultado esperado: 30"
   ]
  },
  {
   "cell_type": "code",
   "execution_count": 1,
   "id": "04547c54",
   "metadata": {},
   "outputs": [
    {
     "name": "stdout",
     "output_type": "stream",
     "text": [
      "30\n"
     ]
    }
   ],
   "source": [
    "import numpy as np\n",
    "arr = np.array([10, 20, 30, 40, 50])\n",
    "print(arr[2]) # Output: 30"
   ]
  },
  {
   "cell_type": "markdown",
   "id": "eebf7030",
   "metadata": {},
   "source": [
    "# EJEMPLO 2: Slicing\n",
    "Este codigo utiliza rebanado para obtener los elementos desde la posición 1 hasta antes de la 4.\n",
    "Resultado esperado: [20 30 40]"
   ]
  },
  {
   "cell_type": "code",
   "execution_count": 2,
   "id": "ab33c1c7",
   "metadata": {},
   "outputs": [
    {
     "name": "stdout",
     "output_type": "stream",
     "text": [
      "[20 30 40]\n"
     ]
    }
   ],
   "source": [
    "import numpy as np\n",
    "arr = np.array([10, 20, 30, 40, 50])\n",
    "print(arr[1:4])  # Output: [20 30 40]\n"
   ]
  },
  {
   "cell_type": "markdown",
   "id": "1a1801c9",
   "metadata": {},
   "source": [
    "# EJEMPLO 3: Indexing 2D Arrays\n",
    "Este codigo selecciona el elemento en la fila 1 (segunda fila, porque la indexación comienza en 0) y la columna 2 (tercera columna).\n",
    "El valor en esa posición es 6 lo cual es su resultado esperado: 6"
   ]
  },
  {
   "cell_type": "code",
   "execution_count": null,
   "id": "3d552fc9",
   "metadata": {},
   "outputs": [
    {
     "name": "stdout",
     "output_type": "stream",
     "text": [
      "6\n"
     ]
    }
   ],
   "source": [
    "import numpy as np\n",
    "arr = np.array([[1, 2, 3], [4, 5, 6], [7, 8, 9]])\n",
    "print(arr[1, 2])  # Output: 6\n"
   ]
  },
  {
   "cell_type": "markdown",
   "id": "53523e93",
   "metadata": {},
   "source": [
    "# EJEMPLO 4:Slicing 2D Arrays\n",
    "Este codigo crea un array 2D de 3x3 con valores del 1 al 9.\n",
    "Slicing arr[:2, 1:]:\n",
    "-[:2] selecciona las filas desde el inicio hasta la fila 2 (exclusivo), es decir, filas 0 y 1.\n",
    "-[1:] selecciona las columnas desde la columna 1 hasta el final, es decir, columnas 1 y 2.\n",
    "Resultado: Se obtiene una submatriz que contiene: Las filas 0 y 1 y Las columnas 1 y 2\n",
    "Que corresponde a los valores [[2, 3], [5, 6]]"
   ]
  },
  {
   "cell_type": "code",
   "execution_count": 4,
   "id": "7c472666",
   "metadata": {},
   "outputs": [
    {
     "name": "stdout",
     "output_type": "stream",
     "text": [
      "[[2 3]\n",
      " [5 6]]\n"
     ]
    }
   ],
   "source": [
    "import numpy as np\n",
    "arr = np.array([[1, 2, 3], [4, 5, 6], [7, 8, 9]])\n",
    "print(arr[:2, 1:])  # Output: [[2 3] [5 6]]\n"
   ]
  },
  {
   "cell_type": "markdown",
   "id": "2623110e",
   "metadata": {},
   "source": [
    "# EJEMPLO 5:3D Tensor Indexing\n",
    "Este código define un tensor tridimensional (3D) de NumPy con forma (3, 2, 3), es decir, 3 matrices de 2 filas y 3 columnas cada una. Al imprimir tensor[1, 0, 2], se accede al elemento ubicado en la segunda matriz (índice 1), primera fila (índice 0) y tercera columna (índice 2), cuyo valor es 9. Luego, al imprimir tensor[1], se extrae toda la segunda matriz, obteniendo el resultado [[7, 8, 9], [10, 11, 12]]."
   ]
  },
  {
   "cell_type": "code",
   "execution_count": 3,
   "id": "700c6dbf",
   "metadata": {},
   "outputs": [
    {
     "name": "stdout",
     "output_type": "stream",
     "text": [
      "9\n",
      "[[ 7  8  9]\n",
      " [10 11 12]]\n"
     ]
    }
   ],
   "source": [
    "import numpy as np\n",
    "tensor = np.array([\n",
    "    [[1, 2, 3], [4, 5, 6]],\n",
    "    [[7, 8, 9], [10, 11, 12]],\n",
    "    [[13, 14, 15], [16, 17, 18]]\n",
    "])\n",
    "\n",
    "print(tensor[1, 0, 2])   # Output: 9\n",
    "print(tensor[1])         # Output: [[ 7  8  9] [10 11 12]]\n"
   ]
  },
  {
   "cell_type": "markdown",
   "id": "ada1e537",
   "metadata": {},
   "source": [
    "# EJEMPLO 6:Slicing a 3D Tensor\n",
    "Este código crea un tensor 3D de 3x3x3 con valores del 0 al 26 usando np.arange(27).reshape(3, 3, 3). Al imprimir tensor[1], se obtiene la segunda submatriz 3x3 completa (valores [[9, 10, 11], [12, 13, 14], [15, 16, 17]]). Con tensor[:, 1, :] se extrae la fila 1 de todas las submatrices ([[3, 4, 5], [12, 13, 14], [21, 22, 23]]), mientras que tensor[:, :, 2] devuelve la columna 2 de cada submatriz ([[2, 5, 8], [11, 14, 17], [20, 23, 26]])"
   ]
  },
  {
   "cell_type": "code",
   "execution_count": 6,
   "id": "0431a7fe",
   "metadata": {},
   "outputs": [
    {
     "name": "stdout",
     "output_type": "stream",
     "text": [
      "[[ 9 10 11]\n",
      " [12 13 14]\n",
      " [15 16 17]]\n",
      "[[ 3  4  5]\n",
      " [12 13 14]\n",
      " [21 22 23]]\n",
      "[[ 2  5  8]\n",
      " [11 14 17]\n",
      " [20 23 26]]\n"
     ]
    }
   ],
   "source": [
    "import numpy as np\n",
    "tensor = np.arange(27).reshape(3, 3, 3)\n",
    "\n",
    "print(tensor[1])        # Output: submatriz 3x3 en el índice 1\n",
    "print(tensor[:, 1, :])  # Output: todos los bloques, fila 1, todas las columnas\n",
    "print(tensor[:, :, 2])  # Output: todos los bloques, todas las filas, columna 2\n"
   ]
  },
  {
   "cell_type": "markdown",
   "id": "f17f4072",
   "metadata": {},
   "source": [
    "# EJEMPLO 7:4D Tensor Indexing\n",
    "Este código crea un tensor 4D de NumPy con forma (2, 3, 2, 4) lleno con valores del 0 al 47 usando np.arange(48).reshape(). Al imprimir tensor[1, 2, 0, 3], se accede al elemento en la segunda matriz (índice 1), tercera submatriz (índice 2), primera fila (índice 0) y cuarta columna (índice 3), que corresponde al 47 (último elemento del array). Luego, tensor[1, 2] extrae un sub-tensor 2D de forma (2, 4) ubicado en la segunda matriz y tercera submatriz, mostrando [[40, 41, 42, 43], [44, 45, 46, 47]]. "
   ]
  },
  {
   "cell_type": "code",
   "execution_count": 7,
   "id": "af023a17",
   "metadata": {},
   "outputs": [
    {
     "name": "stdout",
     "output_type": "stream",
     "text": [
      "43\n",
      "[[40 41 42 43]\n",
      " [44 45 46 47]]\n"
     ]
    }
   ],
   "source": [
    "import numpy as np\n",
    "tensor = np.arange(48).reshape(2, 3, 2, 4)\n",
    "\n",
    "print(tensor[1, 2, 0, 3])  # Output: 47\n",
    "print(tensor[1, 2])        # Output: sub-tensor 2x4\n"
   ]
  },
  {
   "cell_type": "markdown",
   "id": "cf76173d",
   "metadata": {},
   "source": [
    "# EJEMPLO 8:Slicing a 4D Tensor \n",
    "El código crea un tensor 4D de tamaño (2, 3, 2, 4) usando np.arange(48).reshape(), llenando valores del 0 al 47. Al imprimir tensor[1], se extrae el segundo bloque 3D completo (forma (3, 2, 4)). Con tensor[:, 2, :, :], se seleccionan todas las filas en la tercera posición (índice 2) del segundo eje, resultando en un tensor (2, 2, 4). Finalmente, tensor[:, :, 0, :] extrae todas las filas y columnas, pero solo la primera posición del tercer eje, generando un tensor (2, 3, 4)."
   ]
  },
  {
   "cell_type": "code",
   "execution_count": 8,
   "id": "97c3c435",
   "metadata": {},
   "outputs": [
    {
     "name": "stdout",
     "output_type": "stream",
     "text": [
      "[[[24 25 26 27]\n",
      "  [28 29 30 31]]\n",
      "\n",
      " [[32 33 34 35]\n",
      "  [36 37 38 39]]\n",
      "\n",
      " [[40 41 42 43]\n",
      "  [44 45 46 47]]]\n",
      "[[[16 17 18 19]\n",
      "  [20 21 22 23]]\n",
      "\n",
      " [[40 41 42 43]\n",
      "  [44 45 46 47]]]\n",
      "[[[ 0  1  2  3]\n",
      "  [ 8  9 10 11]\n",
      "  [16 17 18 19]]\n",
      "\n",
      " [[24 25 26 27]\n",
      "  [32 33 34 35]\n",
      "  [40 41 42 43]]]\n"
     ]
    }
   ],
   "source": [
    "import numpy as np\n",
    "tensor = np.arange(48).reshape(2, 3, 2, 4)\n",
    "\n",
    "print(tensor[1])             # Output: sub-tensor 3x2x4\n",
    "print(tensor[:, 2, :, :])    # Output: 2x2x4 sub-tensor\n",
    "print(tensor[:, :, 0, :])    # Output: 2x3x4 sub-tensor\n"
   ]
  },
  {
   "cell_type": "markdown",
   "id": "f04db3e3",
   "metadata": {},
   "source": [
    "# EJEMPLO 9:Matrix Addition \n",
    "El código realiza una suma de matrices elemento por elemento usando NumPy. Las matrices A ([[1, 2], [3, 4]]) y B ([[5, 6], [7, 8]]) se suman, lo que da como resultado una nueva matriz donde cada posición contiene la suma de los valores correspondientes en A y B. 1 + 5 = 6, 2 + 6 = 8 (primera fila).\n",
    "3 + 7 = 10, 4 + 8 = 12 (segunda fila)."
   ]
  },
  {
   "cell_type": "code",
   "execution_count": 9,
   "id": "54b68bd6",
   "metadata": {},
   "outputs": [
    {
     "name": "stdout",
     "output_type": "stream",
     "text": [
      "Matrix Addition:\n",
      " [[ 6  8]\n",
      " [10 12]]\n"
     ]
    }
   ],
   "source": [
    "import numpy as np\n",
    "\n",
    "A = np.array([[1, 2], [3, 4]])\n",
    "B = np.array([[5, 6], [7, 8]])\n",
    "result = A + B\n",
    "print(\"Matrix Addition:\\n\", result)\n"
   ]
  },
  {
   "cell_type": "markdown",
   "id": "8ee748d7",
   "metadata": {},
   "source": [
    "# EJEMPLO 10:Matrix Multiplication\n",
    "Este código realiza una multiplicación de matrices utilizando NumPy, donde se definen dos matrices bidimensionales A ([[1, 2], [3, 4]]) y B ([[5, 6], [7, 8]]). La función np.dot(A, B) calcula el producto punto (multiplicación matricial), siguiendo la regla de que el elemento en la fila i y columna j del resultado es la suma de los productos de los elementos correspondientes de la fila i de A y la columna j de B.\n",
    "Primera fila del resultado (19, 22):\n",
    "19 = (1 * 5) + (2 * 7)\n",
    "22 = (1 * 6) + (2 * 8)\n",
    "Segunda fila del resultado (43, 50):\n",
    "43 = (3 * 5) + (4 * 7)\n",
    "50 = (3 * 6) + (4 * 8)"
   ]
  },
  {
   "cell_type": "code",
   "execution_count": 10,
   "id": "76783640",
   "metadata": {},
   "outputs": [
    {
     "name": "stdout",
     "output_type": "stream",
     "text": [
      "Matrix Multiplication:\n",
      " [[19 22]\n",
      " [43 50]]\n"
     ]
    }
   ],
   "source": [
    "import numpy as np\n",
    "A = np.array([[1, 2], [3, 4]])\n",
    "B = np.array([[5, 6], [7, 8]])\n",
    "result = np.dot(A, B)\n",
    "print(\"Matrix Multiplication:\\n\", result)"
   ]
  },
  {
   "cell_type": "markdown",
   "id": "f97a4b01",
   "metadata": {},
   "source": [
    "# EJEMPLO 11:Transpose of a Matrix\n",
    "El siguiente código utiliza NumPy para transponer una matriz bidimensional (2D). Primero, se define la matriz A = np.array([[1, 2], [3, 4]]), que tiene 2 filas y 2 columnas. Al aplicar np.transpose(A), se intercambian las filas por columnas, convirtiendo las filas originales en columnas y viceversa. El resultado esperado es una nueva matriz donde la primera fila [1, 2] se convierte en la primera columna [1, 3], y la segunda fila [3, 4] pasa a ser la segunda columna [2, 4]. La salida impresa será Transpose of A:\n",
    "[[1 3]\n",
    "[2 4]]"
   ]
  },
  {
   "cell_type": "code",
   "execution_count": 11,
   "id": "167eefd8",
   "metadata": {},
   "outputs": [
    {
     "name": "stdout",
     "output_type": "stream",
     "text": [
      "Transpose of A:\n",
      " [[1 3]\n",
      " [2 4]]\n"
     ]
    }
   ],
   "source": [
    "import numpy as np\n",
    "A = np.array([[1, 2], [3, 4]])\n",
    "result = np.transpose(A)\n",
    "print(\"Transpose of A:\\n\", result)"
   ]
  },
  {
   "cell_type": "markdown",
   "id": "c5fb9467",
   "metadata": {},
   "source": [
    "# EJEMPLO 12:Matrix Determinant and Inverse\n",
    "Este código utiliza NumPy para calcular el determinante y la matriz inversa de una matriz cuadrada 2x2 definida como A = np.array([[1, 2], [3, 4]]). Primero, np.linalg.det(A) calcula el determinante, que en este caso es -2.0, indicando que la matriz es invertible. Luego, np.linalg.inv(A) obtiene la matriz inversa, la cual resulta en [[-2.0, 1.0], [1.5, -0.5]], cumpliendo con la propiedad de que A @ inverse (producto matricial) produce la matriz identidad."
   ]
  },
  {
   "cell_type": "code",
   "execution_count": 12,
   "id": "a00ec8d9",
   "metadata": {},
   "outputs": [
    {
     "name": "stdout",
     "output_type": "stream",
     "text": [
      "Determinant: -2.0000000000000004\n",
      "Inverse:\n",
      " [[-2.   1. ]\n",
      " [ 1.5 -0.5]]\n"
     ]
    }
   ],
   "source": [
    "import numpy as np\n",
    "\n",
    "A = np.array([[1, 2], [3, 4]])\n",
    "det = np.linalg.det(A)\n",
    "inverse = np.linalg.inv(A)\n",
    "print(\"Determinant:\", det)\n",
    "print(\"Inverse:\\n\", inverse)"
   ]
  },
  {
   "cell_type": "markdown",
   "id": "dac11b88",
   "metadata": {},
   "source": [
    "# EJEMPLO 13:Eigenvalues and Eigenvectors\n",
    "El código calcula los valores propios (eigenvalues) y vectores propios (eigenvectors) de la matriz A = [[1, -1], [1, 3]] utilizando np.linalg.eig() de NumPy. Los eigenvalues representan los escalares que determinan cómo la matriz escala a sus eigenvectors, mientras que los eigenvectors son los vectores no nulos que solo cambian de escala (no de dirección) cuando se aplica la transformación lineal definida por A."
   ]
  },
  {
   "cell_type": "code",
   "execution_count": 13,
   "id": "c216e630",
   "metadata": {},
   "outputs": [
    {
     "name": "stdout",
     "output_type": "stream",
     "text": [
      "Eigenvalues: [2.00000002 1.99999998]\n",
      "Eigenvectors:\n",
      " [[-0.70710677 -0.70710679]\n",
      " [ 0.70710679  0.70710677]]\n"
     ]
    }
   ],
   "source": [
    "import numpy as np\n",
    "A = np.array([[1, -1], [1, 3]])\n",
    "eigenvalues, eigenvectors = np.linalg.eig(A)\n",
    "print(\"Eigenvalues:\", eigenvalues)\n",
    "print(\"Eigenvectors:\\n\", eigenvectors)"
   ]
  },
  {
   "cell_type": "markdown",
   "id": "524e8353",
   "metadata": {},
   "source": [
    "# EJEMPLO 14:Slicing a 4D Tensor \n",
    "Este código resuelve un sistema de ecuaciones lineales de la forma Ax = b, donde A es la matriz de coeficientes [[2, 1], [1, 1]] y b es el vector de términos independientes [3, 2]. Utilizando np.linalg.solve(), NumPy calcula la solución x que satisface el sistema.\n",
    "Resultados esperados: Solution: [1., 1.]\n",
    "*(Esto significa que las soluciones son x₁ = 1 y x₂ = 1, verificando que: 2(1) + 1(1) = 3 y 1(1) + 1(1) = 2).*"
   ]
  },
  {
   "cell_type": "code",
   "execution_count": 4,
   "id": "cfb64d58",
   "metadata": {},
   "outputs": [
    {
     "name": "stdout",
     "output_type": "stream",
     "text": [
      "Solution: [1. 1.]\n"
     ]
    }
   ],
   "source": [
    "A = np.array([[2, 1], [1, 1]])\n",
    "b = np.array([3, 2])\n",
    "solution = np.linalg.solve(A, b)\n",
    "print(\"Solution:\", solution)\n"
   ]
  },
  {
   "cell_type": "markdown",
   "id": "42969cde",
   "metadata": {},
   "source": [
    "# EJEMPLO 15:Slicing a 4D Tensor \n",
    "Este código implementa el algoritmo de Gradiente Descendente (Gradient Descent) para entrenar un modelo de regresión lineal desde cero, ajustando los parámetros del modelo (θ₀ y θ₁) para minimizar el error cuadrático medio (MSE). Primero, genera datos sintéticos con la forma y = 4 + 3X + ruido gaussiano, donde X contiene 100 muestras aleatorias. Luego, añade un término de sesgo (bias) a X para facilitar el cálculo del intercepto (θ₀). Inicializa los parámetros theta aleatoriamente y, en cada iteración, actualiza sus valores usando el gradiente del MSE, multiplicado por una tasa de aprendizaje (learning_rate = 0.1). Tras 1000 iteraciones, el algoritmo converge a valores cercanos a los parámetros originales (θ₀ ≈ 4, θ₁ ≈ 3), demostrando cómo el gradiente descendente optimiza modelos lineales incluso con datos ruidosos."
   ]
  },
  {
   "cell_type": "code",
   "execution_count": 5,
   "id": "8776a28f",
   "metadata": {},
   "outputs": [
    {
     "name": "stdout",
     "output_type": "stream",
     "text": [
      "Final theta:\n",
      " [[4.22215108]\n",
      " [2.96846751]]\n"
     ]
    }
   ],
   "source": [
    "# Generar datos de ejemplo\n",
    "np.random.seed(0)\n",
    "X = 2 * np.random.rand(100, 1)\n",
    "y = 4 + 3 * X + np.random.randn(100, 1)\n",
    "\n",
    "# Agregar término de sesgo (bias) a X\n",
    "X_b = np.c_[np.ones((100, 1)), X]\n",
    "\n",
    "# Hiperparámetros\n",
    "learning_rate = 0.1\n",
    "n_iterations = 1000\n",
    "\n",
    "# Inicialización aleatoria de parámetros theta\n",
    "theta = np.random.randn(2, 1)\n",
    "\n",
    "# Gradiente descendente\n",
    "for iteration in range(n_iterations):\n",
    "    gradients = 2 / 100 * X_b.T.dot(X_b.dot(theta) - y)\n",
    "    theta = theta - learning_rate * gradients\n",
    "\n",
    "print(\"Final theta:\\n\", theta)\n"
   ]
  },
  {
   "cell_type": "markdown",
   "id": "bc876fcf",
   "metadata": {},
   "source": [
    "# EJEMPLOS NumPyPython functions and classes"
   ]
  },
  {
   "cell_type": "markdown",
   "id": "19a410ae",
   "metadata": {},
   "source": [
    "# EJEMPLO 1:Simple Function \n",
    "Este código define una función llamada greet() que toma un argumento name (nombre) y devuelve un saludo personalizado concatenando la cadena \"Hello, \", el nombre proporcionado y \"!\". Al llamar a la función con greet(\"Ana\"), se genera el mensaje \"Hello, Ana!\", mostrando cómo las funciones en Python pueden recibir parámetros y retornar resultados , en este caso esperamos ver “Hello, Ana!”.."
   ]
  },
  {
   "cell_type": "code",
   "execution_count": 6,
   "id": "a7c48c6f",
   "metadata": {},
   "outputs": [
    {
     "name": "stdout",
     "output_type": "stream",
     "text": [
      "Hello, Ana!\n"
     ]
    }
   ],
   "source": [
    "def greet(name):\n",
    "    return \"Hello, \" + name + \"!\"\n",
    "\n",
    "print(greet(\"Ana\"))  # Output: Hello, Ana!\n"
   ]
  },
  {
   "cell_type": "markdown",
   "id": "8fcad7cc",
   "metadata": {},
   "source": [
    "# EJEMPLO 2:Function with Parameters and Return\n",
    "Este código define una función llamada add_numbers(a, b) que recibe dos argumentos a y b, los suma y devuelve el resultado. Luego, se llama a esta función con los valores 5 y 7, almacenando el resultado en la variable result, que finalmente se imprime el resultado esperado es 12."
   ]
  },
  {
   "cell_type": "code",
   "execution_count": 7,
   "id": "f75d2e64",
   "metadata": {},
   "outputs": [
    {
     "name": "stdout",
     "output_type": "stream",
     "text": [
      "12\n"
     ]
    }
   ],
   "source": [
    "def add_numbers(a, b):\n",
    "    sum = a + b\n",
    "    return sum\n",
    "\n",
    "result = add_numbers(5, 7)\n",
    "print(result)  # Output: 12"
   ]
  },
  {
   "cell_type": "markdown",
   "id": "6b6c1d60",
   "metadata": {},
   "source": [
    "# EJEMPLO 3:Function with Default Parameter\n",
    "Este código define una función llamada power que calcula la potencia de un número (base) elevado a un exponente, con un valor por defecto de 2 si no se especifica. La función utiliza el operador ** para realizar la operación. Cuando se llama a power(3), calcula 3² (ya que usa el exponente por defecto), devolviendo 9. Al llamar a power(2, 3), calcula 2³, resultando en 8."
   ]
  },
  {
   "cell_type": "code",
   "execution_count": 8,
   "id": "9d3b6d2c",
   "metadata": {},
   "outputs": [
    {
     "name": "stdout",
     "output_type": "stream",
     "text": [
      "9\n",
      "8\n"
     ]
    }
   ],
   "source": [
    "def power(base, exponent=2):\n",
    "    return base ** exponent\n",
    "\n",
    "print(power(3))     # Output: 9\n",
    "print(power(2, 3))  # Output: 8"
   ]
  },
  {
   "cell_type": "markdown",
   "id": "c50d11f1",
   "metadata": {},
   "source": [
    "# EJEMPLO 4:Function with Multiple Returns\n",
    "Este código define una función min_max() que recibe una lista de números y retorna el valor mínimo y máximo de dicha lista. Luego, se aplica esta función a la lista nums = [4, 9, 2, 7, 5], almacenando los resultados en las variables minimum y maximum, que finalmente se imprimen.\n",
    "Resultados esperados:\n",
    "Mínimo: 2 (el número más pequeño en la lista)\n",
    "Máximo: 9 (el número más grande en la lista)\n"
   ]
  },
  {
   "cell_type": "code",
   "execution_count": 9,
   "id": "8c1bbd1a",
   "metadata": {},
   "outputs": [
    {
     "name": "stdout",
     "output_type": "stream",
     "text": [
      "2 9\n"
     ]
    }
   ],
   "source": [
    "def min_max(numbers):\n",
    "    return min(numbers), max(numbers)\n",
    "\n",
    "nums = [4, 9, 2, 7, 5]\n",
    "minimum, maximum = min_max(nums)\n",
    "print(minimum, maximum)  # Output: 2 9"
   ]
  },
  {
   "cell_type": "markdown",
   "id": "e6786248",
   "metadata": {},
   "source": [
    "# EJEMPLO 5:Function with Docstring \n",
    "Este código define una función llamada area_of_rectangle que calcula el área de un rectángulo multiplicando su longitud (length) por su ancho (width). La función incluye una docstring que documenta su propósito, los parámetros de entrada (ambos de tipo float) y el valor de retorno (float).\n",
    "Resultado esperado:\n",
    "Si se llama a la función con length=5 y width=3, el resultado será:(5 * 3 = 15)\n"
   ]
  },
  {
   "cell_type": "code",
   "execution_count": 10,
   "id": "3edaa079",
   "metadata": {},
   "outputs": [],
   "source": [
    "def area_of_rectangle(length, width):\n",
    "    \"\"\"\n",
    "    Calculates the area of a rectangle.\n",
    "    \n",
    "    Args:\n",
    "    length (float): The length of the rectangle.\n",
    "    width (float): The width of the rectangle.\n",
    "    \n",
    "    Returns:\n",
    "    float: The area of the rectangle.\n",
    "    \"\"\"\n",
    "    return length * width\n"
   ]
  },
  {
   "cell_type": "markdown",
   "id": "b718c120",
   "metadata": {},
   "source": [
    "# EJEMPLO 6:SCreating a Simple Class\n",
    "Este código define una clase Dog (Perro) en Python, que representa un objeto con atributos (name y age) y un método (bark()). Al crear una instancia llamada dog1 con el nombre \"Buddy\" y edad 3, y luego llamar al método bark(), el programa imprime un mensaje indicando que el perro está ladrando.\n"
   ]
  },
  {
   "cell_type": "code",
   "execution_count": 11,
   "id": "b4b50d0d",
   "metadata": {},
   "outputs": [
    {
     "name": "stdout",
     "output_type": "stream",
     "text": [
      "Buddy is barking!\n"
     ]
    }
   ],
   "source": [
    "class Dog:\n",
    "    def __init__(self, name, age):\n",
    "        self.name = name\n",
    "        self.age = age\n",
    "\n",
    "    def bark(self):\n",
    "        print(f\"{self.name} is barking!\")\n",
    "\n",
    "# Crear instancia\n",
    "dog1 = Dog(\"Buddy\", 3)\n",
    "dog1.bark()  # Output: Buddy is barking!\n"
   ]
  },
  {
   "cell_type": "markdown",
   "id": "b2e82c3e",
   "metadata": {},
   "source": [
    "# EJEMPLO 7:Adding Methods and Attributes\n",
    "Este código define una clase Student en Python que modela a un estudiante con atributos como nombre (name), edad (age) y una lista de calificaciones (grades). Los métodos incluyen add_grade() para agregar calificaciones y get_average_grade() para calcular el promedio. Al crear una instancia student1 con el nombre \"Alice\" y edad *18*, se añaden dos calificaciones (*85* y *92*) y se calcula su promedio el resultado sera esperado: Alice’s average grade: 88.5"
   ]
  },
  {
   "cell_type": "code",
   "execution_count": 12,
   "id": "b1b1f281",
   "metadata": {},
   "outputs": [
    {
     "name": "stdout",
     "output_type": "stream",
     "text": [
      "Alice’s average grade: 88.5\n"
     ]
    }
   ],
   "source": [
    "class Student:\n",
    "    def __init__(self, name, age):\n",
    "        self.name = name\n",
    "        self.age = age\n",
    "        self.grades = []\n",
    "\n",
    "    def add_grade(self, grade):\n",
    "        self.grades.append(grade)\n",
    "\n",
    "    def get_average_grade(self):\n",
    "        return sum(self.grades) / len(self.grades)\n",
    "\n",
    "# Instancia de Student y uso de métodos\n",
    "student1 = Student(\"Alice\", 18)\n",
    "student1.add_grade(85)\n",
    "student1.add_grade(92)\n",
    "average_grade = student1.get_average_grade()\n",
    "print(f\"{student1.name}’s average grade: {average_grade}\")"
   ]
  },
  {
   "cell_type": "markdown",
   "id": "6670e5ef",
   "metadata": {},
   "source": [
    "# EJEMPLO 8:Inheritance\n",
    "Este código define una jerarquía de clases en Python donde Animal es la clase base con un método abstracto speak(), y las subclases Cat (Gato) y Dog (Perro) sobrescriben este método para implementar su propio sonido. Esto demuestra el polimorfismo en la programación orientada a objetos, permitiendo que diferentes clases compartan una interfaz común pero ejecuten comportamientos distintos.\n",
    "Resultados esperados:\n",
    "cat.speak() imprime: Whiskers says Meow!\n",
    "dog.speak() imprime: Buddy says Woof!"
   ]
  },
  {
   "cell_type": "code",
   "execution_count": 13,
   "id": "0c91faf9",
   "metadata": {},
   "outputs": [
    {
     "name": "stdout",
     "output_type": "stream",
     "text": [
      "Whiskers says Meow!\n",
      "Buddy says Woof!\n"
     ]
    }
   ],
   "source": [
    "class Animal:\n",
    "    def __init__(self, name):\n",
    "        self.name = name\n",
    "\n",
    "    def speak(self):\n",
    "        pass  # Método a sobrescribir\n",
    "\n",
    "class Cat(Animal):\n",
    "    def speak(self):\n",
    "        print(f\"{self.name} says Meow!\")\n",
    "\n",
    "class Dog(Animal):\n",
    "    def speak(self):\n",
    "        print(f\"{self.name} says Woof!\")\n",
    "\n",
    "# Instancias\n",
    "cat = Cat(\"Whiskers\")\n",
    "dog = Dog(\"Buddy\")\n",
    "cat.speak()  # Output: Whiskers says Meow!\n",
    "dog.speak()  # Output: Buddy says Woof!\n"
   ]
  },
  {
   "cell_type": "markdown",
   "id": "71925d22",
   "metadata": {},
   "source": [
    "# 3.EJERCICIOS \n",
    "Metodología de trabajo:\n",
    "En esta sección, se resolverán todos los ejercicios propuestos en el documento \"Taller 1: Material NumPy - Ejercicios y Ejemplos\"\n",
    "\n",
    "**Organización de las soluciones:**\n",
    "\n",
    "- Cada ejercicio se resolverá en el orden asignado en el taller.\n",
    "- En la parte superior de cada bloque de código se indicará el número de inciso correspondiente, seguido de su solución.\n",
    "- Nota importante: Para visualizar correctamente los resultados, es necesario ejecutar el código en la consola o entorno de programación."
   ]
  },
  {
   "cell_type": "markdown",
   "id": "4d069c07",
   "metadata": {},
   "source": [
    "# 3.1 Indexing Arrays in NumPy\n",
    "\n",
    "En esta sección se trabaja con arrays de NumPy, tanto unidimensionales como bidimensionales, realizando operaciones básicas de indexación, corte (slicing) y modificación de elementos. Estas operaciones son fundamentales para el manejo eficiente de datos numéricos y estructuras matriciales en Python.\n",
    "\n",
    "## 1. Indexación en un array unidimensional\n",
    "\n",
    "Dado el array:\n",
    "\n",
    "```python\n",
    "import numpy as np\n",
    "\n",
    "arr = np.array([3, 7, 1, 9, 5])\n",
    "\n",
    "- a. Recuperar el tercer elemento del array\n",
    "- b. Rebanar el array para obtener elementos desde el índice 1 hasta el 3\n",
    "- c. Cambiar el valor del cuarto elemento (índice 3) a 12\n"
   ]
  },
  {
   "cell_type": "code",
   "execution_count": null,
   "id": "e059009c",
   "metadata": {},
   "outputs": [
    {
     "name": "stdout",
     "output_type": "stream",
     "text": [
      "a) Tercer elemento: 1\n",
      "b) Slice desde índice 1 al 3: [7 1 9]\n",
      "c) Array modificado: [ 3  7  1 12  5]\n"
     ]
    }
   ],
   "source": [
    "import numpy as np\n",
    "\n",
    "# Crear el array\n",
    "arr = np.array([3, 7, 1, 9, 5])\n",
    "\n",
    "# a) Recuperar el tercer elemento del array (índice 2)\n",
    "third_element = arr[2]\n",
    "print(\"a) Tercer elemento:\", third_element)  # Output: 1\n",
    "\n",
    "# b) Rebanar el array para obtener elementos desde el índice 1 hasta el 3 \n",
    "sliced_array = arr[1:4]\n",
    "print(\"b) Slice desde índice 1 al 3:\", sliced_array)  # Output: [7 1 9]\n",
    "\n",
    "# c) Cambiar el valor del cuarto elemento (índice 3) a 12\n",
    "arr[3] = 12\n",
    "print(\"c) Array modificado:\", arr)  # Output: [3 7 1 12 5]\n"
   ]
  },
  {
   "cell_type": "markdown",
   "id": "4c7ce6e6",
   "metadata": {},
   "source": [
    "## 2. Indexación en un array bidimensional\n",
    "Se crea la siguiente matriz 2D:\n",
    "<div align=\"center\">\n",
    "\n",
    "⎡1&nbsp;&nbsp;2&nbsp;&nbsp;3⎤<br>\n",
    "⎢4&nbsp;&nbsp;5&nbsp;&nbsp;6⎥<br>\n",
    "⎣7&nbsp;&nbsp;8&nbsp;&nbsp;9⎦\n",
    "\n",
    "</div>\n",
    "a) Recuperar el elemento en la segunda fila y tercera columna\n",
    "\n",
    "b) Obtener la submatriz de las dos primeras filas y todas las columnas"
   ]
  },
  {
   "cell_type": "code",
   "execution_count": 22,
   "id": "efc8d68d",
   "metadata": {},
   "outputs": [
    {
     "name": "stdout",
     "output_type": "stream",
     "text": [
      "a) Elemento en segunda fila y tercera columna: 6\n",
      "b) Submatriz (2 primeras filas):\n",
      " [[1 2 3]\n",
      " [4 5 6]]\n"
     ]
    }
   ],
   "source": [
    "# Crear el array 2D (matriz)\n",
    "matrix = np.array([\n",
    "    [1, 2, 3],\n",
    "    [4, 5, 6],\n",
    "    [7, 8, 9]\n",
    "])\n",
    "\n",
    "# a) Recuperar el elemento en la segunda fila y tercera columna (índice [1][2])\n",
    "element = matrix[1, 2]\n",
    "print(\"a) Elemento en segunda fila y tercera columna:\", element)  # Output: 6\n",
    "\n",
    "# b) Slice para obtener submatriz de las dos primeras filas y todas las columnas\n",
    "submatrix = matrix[0:2, :]\n",
    "print(\"b) Submatriz (2 primeras filas):\\n\", submatrix)\n",
    "# Output:\n",
    "# [[1 2 3]\n",
    "#  [4 5 6]]\n"
   ]
  },
  {
   "cell_type": "markdown",
   "id": "94f619ed",
   "metadata": {},
   "source": [
    "# 3.2 Indexing and Slicing Higher-Dimensional Tensors\n",
    "A continuación se describe la resolución paso a paso del ejercicio propuesto sobre indexación y slicing en tensores tridimensionales utilizando NumPy en Python. El tensor es una pila de tres matrices de 3x4:\n",
    "<div align=\"center\">\n",
    "\n",
    "tensor =\n",
    "\n",
    "⎡⎡  1   2   3   4 ⎤  \n",
    " ⎢  5   6   7   8 ⎥  \n",
    " ⎣  9  10  11  12 ⎦  \n",
    "\n",
    " ⎡ 13  14  15  16 ⎤  \n",
    " ⎢ 17  18  19  20 ⎥  \n",
    " ⎣ 21  22  23  24 ⎦  \n",
    "\n",
    " ⎡ 25  26  27  28 ⎤  \n",
    " ⎢ 29  30  31  32 ⎥  \n",
    " ⎣ 33  34  35  36 ⎦\n",
    "</div>\n",
    "\n",
    "1. Recuperar el elemento en la posición (1, 0, 2)\n",
    "2. Obtener el sub-tensor 3×4 correspondiente a la segunda matriz\n",
    "3. Obtener un sub-tensor 2×4 correspondiente a la última fila de las dos últimas matrices\n",
    "4. Recuperar el elemento en la posición (2, 1, 3)\n",
    "5. Obtener un sub-tensor 2×4 correspondiente a la primera fila de las dos últimas matrices\n"
   ]
  },
  {
   "cell_type": "code",
   "execution_count": 16,
   "id": "1c54f356",
   "metadata": {},
   "outputs": [
    {
     "name": "stdout",
     "output_type": "stream",
     "text": [
      "1. Element at (1, 0, 2): 15\n",
      "\n",
      "2. Second matrix (3x4 slice):\n",
      " [[13 14 15 16]\n",
      " [17 18 19 20]\n",
      " [21 22 23 24]]\n",
      "\n",
      "3. Last row of last two matrices (2x4):\n",
      " [[21 22 23 24]\n",
      " [33 34 35 36]]\n",
      "4. Element at (2, 1, 3): 32\n",
      "\n",
      "5. First row of last two matrices (2x4):\n",
      " [[13 14 15 16]\n",
      " [25 26 27 28]]\n"
     ]
    }
   ],
   "source": [
    "import numpy as np\n",
    "\n",
    "# Definimos el tensor 3D (una pila de 3 matrices de 3x4)\n",
    "tensor = np.array([\n",
    "    [ [1, 2, 3, 4],\n",
    "      [5, 6, 7, 8],\n",
    "      [9, 10, 11, 12] ],\n",
    "    \n",
    "    [ [13, 14, 15, 16],\n",
    "      [17, 18, 19, 20],\n",
    "      [21, 22, 23, 24] ],\n",
    "    \n",
    "    [ [25, 26, 27, 28],\n",
    "      [29, 30, 31, 32],\n",
    "      [33, 34, 35, 36] ]\n",
    "])\n",
    "\n",
    "# ===============================\n",
    "# 1. Obtener el elemento en la posición (1, 0, 2)\n",
    "# Significa: segunda matriz (índice 1), primera fila (índice 0), tercera columna (índice 2)\n",
    "element_1 = tensor[1, 0, 2]\n",
    "print(\"1. Element at (1, 0, 2):\", element_1)  # Output: 15\n",
    "\n",
    "# ===============================\n",
    "# 2. Obtener la segunda matriz completa (índice 1 en la primera dimensión)\n",
    "# Resultado: sub-tensor 3x4\n",
    "slice_2 = tensor[1]\n",
    "print(\"\\n2. Second matrix (3x4 slice):\\n\", slice_2)\n",
    "\n",
    "# ===============================\n",
    "# 3. Obtener un sub-tensor 2x4 con la última fila (índice 2) de las dos últimas matrices (índices 1 y 2)\n",
    "slice_3 = tensor[1:, 2, :]\n",
    "print(\"\\n3. Last row of last two matrices (2x4):\\n\", slice_3)\n",
    "\n",
    "# ===============================\n",
    "# 4. Obtener el elemento en la posición (2, 1, 3)\n",
    "# Tercera matriz (índice 2), segunda fila (índice 1), cuarta columna (índice 3)\n",
    "element_4 = tensor[2, 1, 3]\n",
    "print(\"4. Element at (2, 1, 3):\", element_4)  # Output: 32\n",
    "\n",
    "# ===============================\n",
    "# 5. Obtener un sub-tensor 2x4 con la primera fila (índice 0) de las dos últimas matrices (índices 1 y 2)\n",
    "slice_5 = tensor[1:, 0, :]\n",
    "print(\"\\n5. First row of last two matrices (2x4):\\n\", slice_5)\n"
   ]
  },
  {
   "cell_type": "markdown",
   "id": "25b7130a",
   "metadata": {},
   "source": [
    "# 3.3 Defining Functions in Python\n",
    "En esta sección se resuelven ejercicios relacionados con la definición de funciones en Python. Se busca practicar el uso de parámetros, valores por defecto, cálculos matemáticos y estructuras de retorno de funciones simples.\n"
   ]
  },
  {
   "cell_type": "markdown",
   "id": "69cce42a",
   "metadata": {},
   "source": [
    "## Ejercicio 1: `calculate_average`\n",
    "1. Write a Python function calculate average that takes a list of numbers as input and returns the average of those numbers.\n",
    "\n",
    "Se define una función que toma una lista de números como parámetro y retorna su promedio. En caso de que la lista esté vacía, retorna 0."
   ]
  },
  {
   "cell_type": "code",
   "execution_count": 17,
   "id": "50512103",
   "metadata": {},
   "outputs": [
    {
     "name": "stdout",
     "output_type": "stream",
     "text": [
      "Average: 7.0\n"
     ]
    }
   ],
   "source": [
    "def calculate_average(numbers):\n",
    "    if len(numbers) == 0:\n",
    "        return 0\n",
    "    return sum(numbers) / len(numbers)\n",
    "\n",
    "# Ejemplo de uso\n",
    "nums = [4, 8, 6, 10]\n",
    "print(\"Average:\", calculate_average(nums))  # Output: 7.0\n"
   ]
  },
  {
   "cell_type": "markdown",
   "id": "2754b308",
   "metadata": {},
   "source": [
    "## Ejercicio 2: `find_power`\n",
    "2. Define a function find power that calculates the result of a number raised to a given exponent. The function should have two parameters: base (the base number) and exponent (default value should be 2).\n",
    "\n",
    "Se define una función que calcula el resultado de un número elevado a un exponente dado. El exponente tiene un valor por defecto de 2, por lo tanto, si no se proporciona el exponente, se eleva al cuadrado."
   ]
  },
  {
   "cell_type": "code",
   "execution_count": 18,
   "id": "066a2cc9",
   "metadata": {},
   "outputs": [
    {
     "name": "stdout",
     "output_type": "stream",
     "text": [
      "9\n",
      "8\n"
     ]
    }
   ],
   "source": [
    "def find_power(base, exponent=2):\n",
    "    return base ** exponent\n",
    "\n",
    "# Ejemplos de uso\n",
    "print(find_power(3))       # Output: 9\n",
    "print(find_power(2, 3))    # Output: 8\n"
   ]
  },
  {
   "cell_type": "markdown",
   "id": "d2e64298",
   "metadata": {},
   "source": [
    "# 3.4 Implementing Gradient Descent Optimization\n",
    "\n",
    "En esta sección se implementa desde cero el algoritmo de descenso por gradiente para resolver un problema de regresión lineal. Se parte de un conjunto de datos y se busca encontrar los parámetros óptimos `θ0` y `θ1` que minimicen el error entre la predicción y los valores reales. Se utiliza NumPy para el cálculo numérico y Matplotlib para visualizar el progreso del modelo."
   ]
  },
  {
   "cell_type": "markdown",
   "id": "279ae228",
   "metadata": {},
   "source": [
    "## Ejercicio 1: Implementación de Gradient Descent\n",
    "Consider the linear regression problem where you have the following data\n",
    "points:\n",
    "- `X = [1, 2, 3, 4, 5]`\n",
    "- `y = [3, 6, 8, 11, 13]`\n",
    "\n",
    "Implement a Python program using NumPy to perform gradient descent\n",
    "optimization to find the parameters θ0 and θ1 for the linear regression\n",
    "model hθ(x) = θ0 + θ1x. Use a learning rate of 0.01 and iterate for 1000\n",
    "steps.\n",
    "\n",
    "Se aplica el algoritmo de descenso por gradiente para encontrar los parámetros de una recta (modelo de regresión lineal) que se ajusta mejor a los datos dados:\n",
    "- `X = [1, 2, 3, 4, 5]`\n",
    "- `y = [3, 6, 8, 11, 13]`"
   ]
  },
  {
   "cell_type": "code",
   "execution_count": 20,
   "id": "b982bbb3",
   "metadata": {},
   "outputs": [
    {
     "name": "stdout",
     "output_type": "stream",
     "text": [
      "Theta0 final: 0.6987\n",
      "Theta1 final: 2.5004\n"
     ]
    }
   ],
   "source": [
    "import numpy as np\n",
    "import matplotlib.pyplot as plt\n",
    "\n",
    "# Datos\n",
    "X = np.array([1, 2, 3, 4, 5])\n",
    "y = np.array([3, 6, 8, 11, 13])\n",
    "\n",
    "# Parámetros iniciales\n",
    "theta0 = 0.0\n",
    "theta1 = 0.0\n",
    "alpha = 0.01  # Learning rate\n",
    "epochs = 1000\n",
    "\n",
    "# Guardar historial para graficar\n",
    "theta0_history = []\n",
    "theta1_history = []\n",
    "\n",
    "# Gradient descent loop\n",
    "for _ in range(epochs):\n",
    "    m = len(X)\n",
    "    predictions = theta0 + theta1 * X\n",
    "    error = predictions - y\n",
    "\n",
    "    # Gradientes\n",
    "    d_theta0 = (1/m) * np.sum(error)\n",
    "    d_theta1 = (1/m) * np.sum(error * X)\n",
    "\n",
    "    # Actualización de parámetros\n",
    "    theta0 -= alpha * d_theta0\n",
    "    theta1 -= alpha * d_theta1\n",
    "\n",
    "    # Guardar valores para graficar\n",
    "    theta0_history.append(theta0)\n",
    "    theta1_history.append(theta1)\n",
    "\n",
    "print(f\"Theta0 final: {theta0:.4f}\")\n",
    "print(f\"Theta1 final: {theta1:.4f}\")\n"
   ]
  },
  {
   "cell_type": "markdown",
   "id": "e4f39d8f",
   "metadata": {},
   "source": [
    "## Ejercicio 2: Visualización del progreso de θ0 y θ1\n",
    "Draw in a plot the progress of the θ0 and θ1 parameters through the steps.\n",
    "Se grafica cómo evolucionan los valores de `θ0` y `θ1` a lo largo de las 1000 iteraciones del descenso por gradiente."
   ]
  },
  {
   "cell_type": "code",
   "execution_count": 21,
   "id": "da3a89ea",
   "metadata": {},
   "outputs": [
    {
     "data": {
      "image/png": "[encoded data removed]",
      "text/plain": [
       "<Figure size 1000x500 with 1 Axes>"
      ]
     },
     "metadata": {},
     "output_type": "display_data"
    }
   ],
   "source": [
    "plt.figure(figsize=(10, 5))\n",
    "plt.plot(theta0_history, label='θ0')\n",
    "plt.plot(theta1_history, label='θ1')\n",
    "plt.xlabel('Steps')\n",
    "plt.ylabel('Parameter Value')\n",
    "plt.title('Gradient Descent Progress')\n",
    "plt.legend()\n",
    "plt.grid(True)\n",
    "plt.show()\n"
   ]
  },
  {
   "cell_type": "markdown",
   "id": "447071d4",
   "metadata": {},
   "source": [
    "## Ejercicio 3: Explicación del Learning Rate\n",
    "\n",
    "**¿Qué es el Learning Rate?**\n",
    "\n",
    "El learning rate (tasa de aprendizaje) es un parámetro fundamental en el algoritmo de descenso por gradiente. Define el **tamaño del paso** que se da en cada iteración al actualizar los parámetros del modelo (`θ0` y `θ1`).\n",
    "\n",
    "- Si el learning rate es **muy grande**, el modelo puede \"saltar\" el valor mínimo y nunca converger.\n",
    "- Si es **muy pequeño**, el modelo avanza muy lento, haciendo el entrenamiento ineficiente.\n",
    "\n",
    "En este ejemplo usamos `α = 0.01`, un valor común que permite un buen balance entre estabilidad y rapidez.\n"
   ]
  }
 ],
 "metadata": {
  "kernelspec": {
   "display_name": "Python 3",
   "language": "python",
   "name": "python3"
  },
  "language_info": {
   "codemirror_mode": {
    "name": "ipython",
    "version": 3
   },
   "file_extension": ".py",
   "mimetype": "text/x-python",
   "name": "python",
   "nbconvert_exporter": "python",
   "pygments_lexer": "ipython3",
   "version": "3.9.0"
  }
 },
 "nbformat": 4,
 "nbformat_minor": 5
}
